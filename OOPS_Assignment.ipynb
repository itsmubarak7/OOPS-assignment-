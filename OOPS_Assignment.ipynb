{
  "nbformat": 4,
  "nbformat_minor": 0,
  "metadata": {
    "colab": {
      "provenance": []
    },
    "kernelspec": {
      "name": "python3",
      "display_name": "Python 3"
    },
    "language_info": {
      "name": "python"
    }
  },
  "cells": [
    {
      "cell_type": "markdown",
      "source": [
        "#1. What is Object-Oriented Programming (OOP) ?\n",
        "\n",
        "Object-Oriented Programming (OOP) is a programming paradigm based on the concept of objects, which are instances of classes. It is designed to improve code organization, reusability, and scalability by structuring programs around real-world entities.\n"
      ],
      "metadata": {
        "id": "WCC09bM5IwJX"
      }
    },
    {
      "cell_type": "markdown",
      "source": [
        "# 2. What is a class in OOP ?\n",
        "\n",
        "Class\n",
        "\n",
        "A blueprint for creating objects. It defines attributes (data) and methods (functions)."
      ],
      "metadata": {
        "id": "RCFNPcplJEke"
      }
    },
    {
      "cell_type": "markdown",
      "source": [
        "# 3. What is an object in OOP ?\n",
        "\n",
        "Object\n",
        "\n",
        "An instance of a class that holds its own state (attributes) and behavior (methods)."
      ],
      "metadata": {
        "id": "sL2tQWq4JUI3"
      }
    },
    {
      "cell_type": "markdown",
      "source": [
        "# 4. What is the difference between abstraction and encapsulation ?\n",
        "\n",
        "a). Abstraction simplifies usage by hiding complex logic.\n",
        "\n",
        "b). Encapsulation ensures data security by restricting direct access."
      ],
      "metadata": {
        "id": "vaxWBhvPJlKQ"
      }
    },
    {
      "cell_type": "markdown",
      "source": [
        "# 5. What are dunder methods in Python ?\n",
        "\n",
        "Dunder methods (short for Double UNDERscore) are special methods in Python that have double underscores (__) before and after their names. They're also called magic methods because they enable built-in behaviors for objects.\n",
        "\n",
        "These methods are not meant to be called directly but are automatically invoked by Python in specific situations."
      ],
      "metadata": {
        "id": "9nYDExyvKUl-"
      }
    },
    {
      "cell_type": "markdown",
      "source": [
        "# 6. Explain the concept of inheritance in OOP ?\n",
        "\n",
        "Inheritance is a fundamental concept in OOP that allows one class (called the child or derived class) to inherit properties and behaviors (methods) from another class (called the parent or base class).\n",
        "\n",
        "It promotes code reusability, improves scalability, and supports the DRY (Don't Repeat Yourself) principle."
      ],
      "metadata": {
        "id": "5gWHyLrRKlyt"
      }
    },
    {
      "cell_type": "markdown",
      "source": [
        "# 7. What is polymorphism in OOP ?\n",
        "\n",
        "Polymorphism means \"many forms\" and refers to the ability of objects to behave differently based on their class or method implementation. In simpler terms, it allows the same method name to behave differently depending on the object that invokes it.\n",
        "\n",
        "Polymorphism improves flexibility and code reusability by allowing functions and methods to work with objects of different classes seamlessly."
      ],
      "metadata": {
        "id": "k4PbQQhfK3Yx"
      }
    },
    {
      "cell_type": "markdown",
      "source": [
        "# 8.  How is encapsulation achieved in Python ?\n",
        "\n",
        "Encapsulation is an OOP concept that involves bundling data (attributes) and methods (functions) into a single unit (class) and restricting direct access to some components. This helps ensure data security and control over object properties.\n",
        "\n",
        "In Python, encapsulation is achieved using:\n",
        "\n",
        "Public Members (public)\n",
        "\n",
        "Protected Members (_protected)\n",
        "\n",
        "Private Members (__private)"
      ],
      "metadata": {
        "id": "vMQNbOd4LELb"
      }
    },
    {
      "cell_type": "markdown",
      "source": [
        "# 9. What is a constructor in Python ?\n",
        "\n",
        "A constructor is a special method in Python used to initialize an object’s attributes when it is created. In Python, the constructor method is defined using the __init__() method.\n",
        "\n",
        "When an object of a class is instantiated, the __init__() method is automatically called, making it ideal for initializing data.\n",
        "\n"
      ],
      "metadata": {
        "id": "lLecfMxVME6l"
      }
    },
    {
      "cell_type": "markdown",
      "source": [
        "# 10. What are class and static methods in Python ?\n",
        "\n",
        "In Python, class methods and static methods are special types of methods that are defined within a class but differ from regular instance methods in how they behave and are called.\n",
        "\n",
        "1. Class Method (@classmethod)\n",
        "A class method is bound to the class itself rather than its objects. It can access and modify class-level data but cannot access instance-specific data directly.\n",
        "\n",
        "✅ Defined using the @classmethod decorator.\n",
        "\n",
        "✅ The first parameter is conventionally named cls, which refers to the class itself.\n",
        "\n",
        "\n",
        "2. Static Method (@staticmethod)\n",
        "\n",
        "A static method is independent of both the class and its instances.\n",
        "\n",
        "✅ Defined using the @staticmethod decorator.\n",
        "\n",
        "✅ Does not require self or cls as its first parameter.\n",
        "\n",
        "✅ Typically used for utility functions that don't rely on class-level or instance-level data."
      ],
      "metadata": {
        "id": "FsXGPnArMnhr"
      }
    },
    {
      "cell_type": "markdown",
      "source": [
        "# 11 . What is method overloading in Python ?\n",
        "\n",
        "Method Overloading in Python\n",
        "Method overloading refers to defining multiple methods with the same name but different parameters. While Python doesn’t support true method overloading like Java or C++, you can achieve it using:\n",
        "\n",
        "✅ Default Arguments\n",
        "\n",
        "✅ *args (Variable-length Arguments)\n",
        "\n",
        "✅ **kwargs (Keyword Arguments)"
      ],
      "metadata": {
        "id": "NeJEC4ljNqxT"
      }
    },
    {
      "cell_type": "markdown",
      "source": [
        "# 12 . What is method overriding in OOP ?\n",
        "\n",
        "Method Overriding in OOP\n",
        "Method overriding occurs when a child class provides its own implementation for a method that is already defined in its parent class. The overridden method in the child class must have:\n",
        "\n",
        "✅ The same method name\n",
        "\n",
        "✅ The same number and type of parameters\n",
        "\n",
        "✅ The same return type (if applicable)\n",
        "\n",
        "Method overriding is a key feature of runtime polymorphism in object-oriented programming."
      ],
      "metadata": {
        "id": "OIF7ZGbyOZUp"
      }
    },
    {
      "cell_type": "markdown",
      "source": [
        "# 13 . What is a property decorator in Python ?\n",
        "\n",
        "Property Decorator (@property) in Python\n",
        "The @property decorator in Python is used to define getter methods in a Pythonic way, allowing you to access methods like attributes. It simplifies access control for class attributes by combining getter, setter, and deleter methods in a clean and readable format."
      ],
      "metadata": {
        "id": "PEP8kr0aO2kk"
      }
    },
    {
      "cell_type": "markdown",
      "source": [
        "# 14 . Why is polymorphism important in OOP ?\n",
        "\n",
        "Polymorphism is a core concept in Object-Oriented Programming (OOP) that allows objects of different classes to be treated as objects of a common superclass. It enables a single method, function, or operator to work in different ways depending on the context.\n",
        "\n"
      ],
      "metadata": {
        "id": "Ib3uOln7POdP"
      }
    },
    {
      "cell_type": "markdown",
      "source": [
        "# 15 . What is an abstract class in Python ?\n",
        "\n",
        "An abstract class in Python is a class that cannot be instantiated directly and is meant to be a blueprint for other classes. It defines common methods and attributes that derived classes must implement.\n",
        "\n",
        "In Python, abstract classes are created using the abc (Abstract Base Class) module."
      ],
      "metadata": {
        "id": "jz9Qs9amPd3q"
      }
    },
    {
      "cell_type": "markdown",
      "source": [
        "# 16 . What are the advantages of OOP ?\n",
        "\n",
        "1. Code Reusability (Inheritance)\n",
        "\n",
        "OOP allows you to reuse code by inheriting properties and methods from existing classes.\n",
        "\n",
        "This reduces duplication, saving time and effort.\n",
        "\n",
        "2. Improved Code Organization (Encapsulation)\n",
        "\n",
        "By grouping data (attributes) and methods (functions) into a class, OOP enhances code organization.\n",
        "\n",
        "Encapsulation protects data using private or protected members."
      ],
      "metadata": {
        "id": "Neu1CP_bPphb"
      }
    },
    {
      "cell_type": "markdown",
      "source": [
        "# 17. What is the difference between a class variable and an instance variable ?\n",
        "\n",
        "1. Class Variable\n",
        "A class variable is shared across all instances (objects) of the class. Changes to a class variable affect all instances.\n",
        "\n",
        "🔹 Defined outside any method, typically at the class level.\n",
        "\n",
        "🔹 Shared among all objects of the class.\n",
        "\n",
        "🔹 Accessed using the class name or an object reference.\n",
        "\n",
        "2. Instance Variable\n",
        "An instance variable is unique to each object. Changes to an instance variable affect only that specific object.\n",
        "\n",
        "🔹 Defined inside the __init__() method using self.\n",
        "\n",
        "🔹 Each object maintains its own copy.\n",
        "\n",
        "🔹 Accessed using the object reference.\n",
        "\n"
      ],
      "metadata": {
        "id": "LNUt2BClR1xx"
      }
    },
    {
      "cell_type": "markdown",
      "source": [
        "# 18.  What is multiple inheritance in Python ?\n",
        "\n",
        "Multiple inheritance is an OOP feature in Python where a class can inherit from more than one parent class. This enables the child class to access attributes and methods from multiple base classes.\n",
        "\n",
        "How Multiple Inheritance Works\n",
        "\n",
        "The child class gets access to all methods and attributes from both parent classes.\n",
        "\n",
        "If there’s a method name conflict, Python resolves it using the MRO (Method Resolution Order).\n"
      ],
      "metadata": {
        "id": "SqJJABxzSORK"
      }
    },
    {
      "cell_type": "markdown",
      "source": [
        "# 19 . Explain the purpose of ‘’__str__’ and ‘__repr__’ ‘ methods in Python ?\n",
        "\n",
        "Both __str__() and __repr__() are dunder methods (special methods) in Python used to represent objects as strings. While they seem similar, they serve different purposes.\n",
        "\n",
        "1. __str__() — For Readable Representation\n",
        "\n",
        "Designed to provide a user-friendly string representation of the object.\n",
        "\n",
        "Intended for end-users (non-technical audience).\n",
        "\n",
        "Used when calling print() or str() on an object.\n",
        "\n",
        "2. __repr__() — For Debugging/Development\n",
        "\n",
        "Designed for developers and debugging purposes.\n",
        "\n",
        "Should provide a precise and unambiguous representation of the object.\n",
        "\n",
        "Used when calling repr() or directly in the Python console."
      ],
      "metadata": {
        "id": "RLKdmNxKSzxS"
      }
    },
    {
      "cell_type": "markdown",
      "source": [
        "# 20 . What is the significance of the ‘super()’ function in Python ?\n",
        "\n",
        "The super() function in Python is used to call a parent class's method inside a child class. It is especially useful in scenarios involving inheritance, particularly when dealing with:\n",
        "\n",
        "✅ Method Overriding\n",
        "\n",
        "✅ Multiple Inheritance\n",
        "\n",
        "✅ Constructor Chaining"
      ],
      "metadata": {
        "id": "uIPIJKIsTKVA"
      }
    },
    {
      "cell_type": "markdown",
      "source": [
        "# 21 . What is the significance of the __del__ method in Python ?\n",
        "\n",
        "The __del__() method in Python is a destructor method that gets called automatically when an object is deleted or goes out of scope. It’s primarily used to release resources like closing files, database connections, or network sockets.\n",
        "\n"
      ],
      "metadata": {
        "id": "LcrMLDvlTUlr"
      }
    },
    {
      "cell_type": "markdown",
      "source": [
        "# 22. What is the difference between @staticmethod and @classmethod in Python ?\n",
        "\n",
        "Both @staticmethod and @classmethod are decorators in Python that define special types of methods inside classes. While they may seem similar, they serve different purposes.\n",
        "\n",
        "\n",
        "1. @staticmethod Example – Independent Utility Methods\n",
        "\n",
        "Used when the method doesn’t rely on class or instance attributes.\n",
        "Often behaves like a regular function but is defined inside the class for logical grouping.\n",
        "\n",
        "\n",
        "2. @classmethod Example – Working with Class Variables\n",
        "\n",
        "Used when the method needs to modify or access class-level data.\n",
        "The cls parameter represents the class itself.\n",
        "\n",
        "\n",
        "3. Example Combining Both Decorators\n",
        "Scenario: Let's build a Swiggy-style system with:\n",
        "\n",
        "A @staticmethod for calculating delivery charges.\n",
        "A @classmethod for tracking total deliveries."
      ],
      "metadata": {
        "id": "MK7dH0UgTplT"
      }
    },
    {
      "cell_type": "markdown",
      "source": [
        "#23. How does polymorphism work in Python with inheritance ?\n",
        "\n",
        "Polymorphism in Python refers to the ability of different classes to implement methods with the same name but possibly different behaviors. It allows objects of different types to be treated as objects of a common base type, improving flexibility and scalability.\n",
        "\n",
        "In Python, polymorphism is typically achieved through method overriding in combination with inheritance."
      ],
      "metadata": {
        "id": "fX6jvvVgULtg"
      }
    },
    {
      "cell_type": "markdown",
      "source": [
        "# 24. What is method chaining in Python OOP ?\n",
        "\n",
        "Method chaining is a technique in Python that allows you to call multiple methods on the same object in a single line. This approach improves code readability and reduces the need for temporary variables.\n",
        "\n",
        "In Python OOP, method chaining is achieved by returning self from each method, which allows consecutive method calls on the same object."
      ],
      "metadata": {
        "id": "ycw90yagUhhG"
      }
    },
    {
      "cell_type": "markdown",
      "source": [
        "# 25. What is the purpose of the __call__ method in Python ?\n",
        "\n",
        "__call__ Method in Python\n",
        "\n",
        "The __call__ method in Python allows an instance of a class to be called like a function. This special method makes the object itself behave like a callable (e.g., function or method)."
      ],
      "metadata": {
        "id": "byjUSOqEUsMY"
      }
    },
    {
      "cell_type": "code",
      "source": [
        "# 1. Create a parent class Animal with a method speak() that prints a generic message. Create a child class Dog that overrides the speak() method to print \"Bark!\".\n",
        "\n",
        "\n",
        "\n",
        "# Parent class\n",
        "class Animal:\n",
        "    def speak(self):\n",
        "        print(\"This animal makes a sound.\")\n",
        "\n",
        "# Child class\n",
        "class Dog(Animal):\n",
        "    def speak(self):\n",
        "        print(\"Bark!\")\n",
        "\n",
        "# Creating objects\n",
        "generic_animal = Animal()\n",
        "dog = Dog()\n",
        "\n",
        "# Calling the speak method\n",
        "generic_animal.speak()  # Output: This animal makes a sound.\n",
        "dog.speak()             # Output: Bark!\n"
      ],
      "metadata": {
        "id": "8IqjKK0uVKN0"
      },
      "execution_count": null,
      "outputs": []
    },
    {
      "cell_type": "code",
      "source": [
        "# 2. Write a program to create an abstract class Shape with a method area(). Derive classes Circle and Rectangle from it and implement the area() method in both.\n",
        "\n",
        "from abc import ABC, abstractmethod\n",
        "\n",
        "# Abstract class\n",
        "class Shape(ABC):\n",
        "    @abstractmethod\n",
        "    def area(self):\n",
        "        pass\n",
        "\n",
        "# Derived class for Circle\n",
        "class Circle(Shape):\n",
        "    def __init__(self, radius):\n",
        "        self.radius = radius\n",
        "\n",
        "    def area(self):\n",
        "        return 3.14 * self.radius ** 2\n",
        "\n",
        "# Derived class for Rectangle\n",
        "class Rectangle(Shape):\n",
        "    def __init__(self, length, width):\n",
        "        self.length = length\n",
        "        self.width = width\n",
        "\n",
        "    def area(self):\n",
        "        return self.length * self.width\n",
        "\n",
        "# Creating objects\n",
        "circle = Circle(5)\n",
        "rectangle = Rectangle(4, 6)\n",
        "\n",
        "# Calculating and displaying area\n",
        "print(f\"Circle Area: {circle.area()}\")         # Output: Circle Area: 78.5\n",
        "print(f\"Rectangle Area: {rectangle.area()}\")   # Output: Rectangle Area: 24\n",
        "\n"
      ],
      "metadata": {
        "id": "eLFJKA8QVoKD"
      },
      "execution_count": 1,
      "outputs": []
    },
    {
      "cell_type": "code",
      "source": [
        "# 3. Implement a multi-level inheritance scenario where a class Vehicle has an attribute type. Derive a class Car and further derive a class ElectricCar that adds a battery attribute.\n",
        "\n",
        "# Base class\n",
        "class Vehicle:\n",
        "    def __init__(self, vehicle_type):\n",
        "        self.vehicle_type = vehicle_type\n",
        "\n",
        "    def display_type(self):\n",
        "        print(f\"Vehicle Type: {self.vehicle_type}\")\n",
        "\n",
        "# Derived class - Car\n",
        "class Car(Vehicle):\n",
        "    def __init__(self, vehicle_type, brand):\n",
        "        super().__init__(vehicle_type)\n",
        "        self.brand = brand\n",
        "\n",
        "    def display_brand(self):\n",
        "        print(f\"Car Brand: {self.brand}\")\n",
        "\n",
        "# Further derived class - ElectricCar\n",
        "class ElectricCar(Car):\n",
        "    def __init__(self, vehicle_type, brand, battery_capacity):\n",
        "        super().__init__(vehicle_type, brand)\n",
        "        self.battery_capacity = battery_capacity\n",
        "\n",
        "    def display_battery_info(self):\n",
        "        print(f\"Battery Capacity: {self.battery_capacity} kWh\")\n",
        "\n",
        "# Creating objects\n",
        "electric_car = ElectricCar(\"Four-Wheeler\", \"Tesla\", 75)\n",
        "\n",
        "# Displaying information\n",
        "electric_car.display_type()         # Output: Vehicle Type: Four-Wheeler\n",
        "electric_car.display_brand()        # Output: Car Brand: Tesla\n",
        "electric_car.display_battery_info() # Output: Battery Capacity: 75 kWh\n",
        "\n",
        "\n"
      ],
      "metadata": {
        "id": "e8aezWJdtiQd"
      },
      "execution_count": null,
      "outputs": []
    },
    {
      "cell_type": "code",
      "source": [
        "# 4. Demonstrate polymorphism by creating a base class Bird with a method fly(). Create two derived classes Sparrow and Penguin that override the fly() method.\n",
        "\n",
        "# Base class\n",
        "class Bird:\n",
        "    def fly(self):\n",
        "        print(\"Some birds can fly.\")\n",
        "\n",
        "# Derived class - Sparrow\n",
        "class Sparrow(Bird):\n",
        "    def fly(self):\n",
        "        print(\"Sparrow flies high in the sky.\")\n",
        "\n",
        "# Derived class - Penguin\n",
        "class Penguin(Bird):\n",
        "    def fly(self):\n",
        "        print(\"Penguins cannot fly, but they swim skillfully.\")\n",
        "\n",
        "# Function demonstrating polymorphism\n",
        "def show_flight_ability(bird):\n",
        "    bird.fly()  # Calls the appropriate method based on the object type\n",
        "\n",
        "# Creating objects\n",
        "sparrow = Sparrow()\n",
        "penguin = Penguin()\n",
        "\n",
        "# Demonstrating polymorphism\n",
        "show_flight_ability(sparrow)  # Output: Sparrow flies high in the sky.\n",
        "show_flight_ability(penguin)  # Output: Penguins cannot fly, but they swim skillfully.\n",
        "\n"
      ],
      "metadata": {
        "id": "H5G4nnyMuPGU"
      },
      "execution_count": null,
      "outputs": []
    },
    {
      "cell_type": "code",
      "source": [
        "# 5. Write a program to demonstrate encapsulation by creating a class BankAccount with private attributes balance and methods to deposit, withdraw, and check balance .\n",
        "\n",
        "class BankAccount:\n",
        "    def __init__(self, initial_balance=0):\n",
        "        self.__balance = initial_balance  # Private attribute\n",
        "\n",
        "    # Method to deposit money\n",
        "    def deposit(self, amount):\n",
        "        if amount > 0:\n",
        "            self.__balance += amount\n",
        "            print(f\"Deposited ₹{amount}. New balance: ₹{self.__balance}\")\n",
        "        else:\n",
        "            print(\"Invalid deposit amount.\")\n",
        "\n",
        "    # Method to withdraw money\n",
        "    def withdraw(self, amount):\n",
        "        if 0 < amount <= self.__balance:\n",
        "            self.__balance -= amount\n",
        "            print(f\"Withdrew ₹{amount}. Remaining balance: ₹{self.__balance}\")\n",
        "        else:\n",
        "            print(\"Insufficient balance or invalid amount.\")\n",
        "\n",
        "    # Method to check balance\n",
        "    def check_balance(self):\n",
        "        print(f\"Current Balance: ₹{self.__balance}\")\n",
        "\n",
        "# Creating a bank account object\n",
        "account = BankAccount(1000)\n",
        "\n",
        "# Performing transactions\n",
        "account.deposit(500)         # Output: Deposited ₹500. New balance: ₹1500\n",
        "account.withdraw(200)        # Output: Withdrew ₹200. Remaining balance: ₹1300\n",
        "account.check_balance()      # Output: Current Balance: ₹1300\n"
      ],
      "metadata": {
        "id": "1b7dkGMfu-_6"
      },
      "execution_count": null,
      "outputs": []
    },
    {
      "cell_type": "code",
      "source": [
        "# 6. Demonstrate runtime polymorphism using a method play() in a base class Instrument. Derive classes Guitar and Piano that implement their own version of play().\n",
        "\n",
        "# Base class\n",
        "class Instrument:\n",
        "    def play(self):\n",
        "        print(\"This instrument makes a sound.\")\n",
        "\n",
        "# Derived class - Guitar\n",
        "class Guitar(Instrument):\n",
        "    def play(self):\n",
        "        print(\"Strumming the guitar... 🎸\")\n",
        "\n",
        "# Derived class - Piano\n",
        "class Piano(Instrument):\n",
        "    def play(self):\n",
        "        print(\"Playing the piano... 🎹\")\n",
        "\n",
        "# Function demonstrating runtime polymorphism\n",
        "def perform_music(instrument):\n",
        "    instrument.play()  # Calls the appropriate method at runtime\n",
        "\n",
        "# Creating objects\n",
        "guitar = Guitar()\n",
        "piano = Piano()\n",
        "\n",
        "# Demonstrating polymorphism\n",
        "perform_music(guitar)  # Output: Strumming the guitar... 🎸\n",
        "perform_music(piano)   # Output: Playing the piano... 🎹\n"
      ],
      "metadata": {
        "id": "FBU8t0DOvPKf"
      },
      "execution_count": null,
      "outputs": []
    },
    {
      "cell_type": "code",
      "source": [
        "# 7. Create a class MathOperations with a class method add_numbers() to add two numbers and a static method subtract_numbers() to subtract two numbers.\n",
        "\n",
        "class MathOperations:\n",
        "    # Class method to add two numbers\n",
        "    @classmethod\n",
        "    def add_numbers(cls, a, b):\n",
        "        return a + b\n",
        "\n",
        "    # Static method to subtract two numbers\n",
        "    @staticmethod\n",
        "    def subtract_numbers(a, b):\n",
        "        return a - b\n",
        "\n",
        "# Using class method and static method\n",
        "print(f\"Addition: {MathOperations.add_numbers(10, 5)}\")     # Output: Addition: 15\n",
        "print(f\"Subtraction: {MathOperations.subtract_numbers(10, 5)}\")  # Output: Subtraction: 5\n"
      ],
      "metadata": {
        "id": "rpe4BZ2YvrE7"
      },
      "execution_count": null,
      "outputs": []
    },
    {
      "cell_type": "code",
      "source": [
        "# 8. Implement a class Person with a class method to count the total number of persons created.\n",
        "\n",
        "class Person:\n",
        "    # Class variable to keep count of persons\n",
        "    total_persons = 0\n",
        "\n",
        "    def __init__(self, name):\n",
        "        self.name = name\n",
        "        Person.total_persons += 1  # Increment count when a new object is created\n",
        "\n",
        "    # Class method to get total count\n",
        "    @classmethod\n",
        "    def get_total_persons(cls):\n",
        "        return cls.total_persons\n",
        "\n",
        "# Creating Person objects\n",
        "person1 = Person(\"Alice\")\n",
        "person2 = Person(\"Bob\")\n",
        "person3 = Person(\"Charlie\")\n",
        "\n",
        "# Display total persons created\n",
        "print(f\"Total Persons Created: {Person.get_total_persons()}\")  # Output: Total Persons Created: 3\n"
      ],
      "metadata": {
        "id": "iLaJWr2Ov4-S"
      },
      "execution_count": null,
      "outputs": []
    },
    {
      "cell_type": "code",
      "source": [
        "# 9. Write a class Fraction with attributes numerator and denominator. Override the str method to display the fraction as \"numerator/denominator\".\n",
        "\n",
        "class Fraction:\n",
        "    def __init__(self, numerator, denominator):\n",
        "        self.numerator = numerator\n",
        "        self.denominator = denominator\n",
        "\n",
        "    # Overriding __str__ method\n",
        "    def __str__(self):\n",
        "        return f\"{self.numerator}/{self.denominator}\"\n",
        "\n",
        "# Creating Fraction objects\n",
        "fraction1 = Fraction(3, 4)\n",
        "fraction2 = Fraction(5, 8)\n",
        "\n",
        "# Displaying the fractions\n",
        "print(f\"Fraction 1: {fraction1}\")  # Output: Fraction 1: 3/4\n",
        "print(f\"Fraction 2: {fraction2}\")  # Output: Fraction 2: 5/8\n"
      ],
      "metadata": {
        "id": "gtPSP3NHwCq8"
      },
      "execution_count": null,
      "outputs": []
    },
    {
      "cell_type": "code",
      "source": [
        "# 10. Demonstrate operator overloading by creating a class Vector and overriding the add method to add two vectors .\n",
        "\n",
        "class Vector:\n",
        "    def __init__(self, x, y):\n",
        "        self.x = x\n",
        "        self.y = y\n",
        "\n",
        "    # Overloading the '+' operator\n",
        "    def __add__(self, other):\n",
        "        return Vector(self.x + other.x, self.y + other.y)\n",
        "\n",
        "    # Overriding __str__ for better output\n",
        "    def __str__(self):\n",
        "        return f\"Vector({self.x}, {self.y})\"\n",
        "\n",
        "# Creating Vector objects\n",
        "v1 = Vector(2, 3)\n",
        "v2 = Vector(4, 1)\n",
        "\n",
        "# Adding vectors using '+' operator\n",
        "result = v1 + v2\n",
        "\n",
        "# Displaying the result\n",
        "print(f\"v1: {v1}\")          # Output: v1: Vector(2, 3)\n",
        "print(f\"v2: {v2}\")          # Output: v2: Vector(4, 1)\n",
        "print(f\"Result: {result}\")  # Output: Result: Vector(6, 4)\n"
      ],
      "metadata": {
        "id": "5slXX2scwW45"
      },
      "execution_count": null,
      "outputs": []
    },
    {
      "cell_type": "code",
      "source": [
        "# 11. Create a class Person with attributes name and age. Add a method greet() that prints \"Hello, my name is {name} and I am {age} years old.\"\n",
        "\n",
        "class Person:\n",
        "    def __init__(self, name, age):\n",
        "        self.name = name\n",
        "        self.age = age\n",
        "\n",
        "    # Method to greet\n",
        "    def greet(self):\n",
        "        print(f\"Hello, my name is {self.name} and I am {self.age} years old.\")\n",
        "\n",
        "# Creating Person objects\n",
        "person1 = Person(\"Alice\", 30)\n",
        "person2 = Person(\"Bob\", 25)\n",
        "\n",
        "# Displaying greetings\n",
        "person1.greet()  # Output: Hello, my name is Alice and I am 30 years old.\n",
        "person2.greet()  # Output: Hello, my name is Bob and I am 25 years old.\n"
      ],
      "metadata": {
        "id": "feXkeqQBwkB-"
      },
      "execution_count": null,
      "outputs": []
    },
    {
      "cell_type": "code",
      "source": [
        "# 12. Implement a class Student with attributes name and grades. Create a method average_grade() to compute the average of the grades.\n",
        "\n",
        "class Student:\n",
        "    def __init__(self, name, grades):\n",
        "        self.name = name\n",
        "        self.grades = grades  # List of grades\n",
        "\n",
        "    # Method to calculate the average grade\n",
        "    def average_grade(self):\n",
        "        if self.grades:\n",
        "            return sum(self.grades) / len(self.grades)\n",
        "        else:\n",
        "            return 0.0  # Return 0 if no grades are present\n",
        "\n",
        "# Creating Student objects\n",
        "student1 = Student(\"Alice\", [85, 90, 78])\n",
        "student2 = Student(\"Bob\", [92, 88, 79, 95])\n",
        "\n",
        "# Displaying average grades\n",
        "print(f\"{student1.name}'s Average Grade: {student1.average_grade():.2f}\")  # Output: Alice's Average Grade: 84.33\n",
        "print(f\"{student2.name}'s Average Grade: {student2.average_grade():.2f}\")  # Output: Bob's Average Grade: 88.50\n"
      ],
      "metadata": {
        "id": "sbaLFG4yw-Wz"
      },
      "execution_count": null,
      "outputs": []
    },
    {
      "cell_type": "code",
      "source": [
        "# 13. Create a class Rectangle with methods set_dimensions() to set the dimensions and area() to calculate the area.\n",
        "\n",
        "class Rectangle:\n",
        "    def __init__(self):\n",
        "        self.length = 0\n",
        "        self.width = 0\n",
        "\n",
        "    # Method to set dimensions\n",
        "    def set_dimensions(self, length, width):\n",
        "        self.length = length\n",
        "        self.width = width\n",
        "\n",
        "    # Method to calculate area\n",
        "    def area(self):\n",
        "        return self.length * self.width\n",
        "\n",
        "# Creating a Rectangle object\n",
        "rect = Rectangle()\n",
        "rect.set_dimensions(5, 10)\n",
        "\n",
        "# Displaying the area\n",
        "print(f\"Area of the rectangle: {rect.area()} square units\")  # Output: Area of the rectangle: 50 square units"
      ],
      "metadata": {
        "id": "gMFMqO5-xTFf"
      },
      "execution_count": null,
      "outputs": []
    },
    {
      "cell_type": "code",
      "source": [
        "# 14. Create a class Employee with a method calculate_salary() that computes the salary based on hours worked and hourly rate. Create a derived class Manager that adds a bonus to the salary.\n",
        "\n",
        "class Employee:\n",
        "    def __init__(self, name, hourly_rate):\n",
        "        self.name = name\n",
        "        self.hourly_rate = hourly_rate\n",
        "\n",
        "    # Method to calculate salary based on hours worked\n",
        "    def calculate_salary(self, hours_worked):\n",
        "        return self.hourly_rate * hours_worked\n",
        "\n",
        "# Derived class Manager with additional bonus calculation\n",
        "class Manager(Employee):\n",
        "    def __init__(self, name, hourly_rate, bonus):\n",
        "        super().__init__(name, hourly_rate)\n",
        "        self.bonus = bonus\n",
        "\n",
        "    # Overriding calculate_salary to include bonus\n",
        "    def calculate_salary(self, hours_worked):\n",
        "        base_salary = super().calculate_salary(hours_worked)\n",
        "        return base_salary + self.bonus\n",
        "\n",
        "# Creating Employee and Manager objects\n",
        "employee = Employee(\"Alice\", 20)\n",
        "manager = Manager(\"Bob\", 30, 500)\n",
        "\n",
        "# Displaying calculated salaries\n",
        "print(f\"{employee.name}'s Salary: ₹{employee.calculate_salary(40)}\")   # Output: Alice's Salary: ₹800\n",
        "print(f\"{manager.name}'s Salary: ₹{manager.calculate_salary(40)}\")     # Output: Bob's Salary: ₹1700"
      ],
      "metadata": {
        "id": "bsjl3zCJxmk5"
      },
      "execution_count": null,
      "outputs": []
    },
    {
      "cell_type": "code",
      "source": [
        "# 15. Create a class Product with attributes name, price, and quantity. Implement a method total_price() that calculates the total price of the product.\n",
        "\n",
        "class Product:\n",
        "    def __init__(self, name, price, quantity):\n",
        "        self.name = name\n",
        "        self.price = price\n",
        "        self.quantity = quantity\n",
        "\n",
        "    # Method to calculate total price\n",
        "    def total_price(self):\n",
        "        return self.price * self.quantity\n",
        "\n",
        "# Creating Product objects\n",
        "product1 = Product(\"Laptop\", 50000, 2)\n",
        "product2 = Product(\"Phone\", 30000, 3)\n",
        "\n",
        "# Displaying total prices\n",
        "print(f\"Total price for {product1.name}: ₹{product1.total_price()}\")  # Output: Total price for Laptop: ₹100000\n",
        "print(f\"Total price for {product2.name}: ₹{product2.total_price()}\")  # Output: Total price for Phone: ₹90000"
      ],
      "metadata": {
        "id": "wfZlzFD2x4x1"
      },
      "execution_count": null,
      "outputs": []
    },
    {
      "cell_type": "code",
      "source": [
        "# 16. Create a class Animal with an abstract method sound(). Create two derived classes Cow and Sheep that implement the sound() method.\n",
        "\n",
        "from abc import ABC, abstractmethod\n",
        "\n",
        "# Abstract class Animal\n",
        "class Animal(ABC):\n",
        "    @abstractmethod\n",
        "    def sound(self):\n",
        "        pass\n",
        "\n",
        "# Derived class Cow\n",
        "class Cow(Animal):\n",
        "    def sound(self):\n",
        "        return \"Moo\"\n",
        "\n",
        "# Derived class Sheep\n",
        "class Sheep(Animal):\n",
        "    def sound(self):\n",
        "        return \"Baa\"\n",
        "\n",
        "# Creating objects and calling sound() method\n",
        "cow = Cow()\n",
        "sheep = Sheep()\n",
        "\n",
        "print(f\"Cow makes sound: {cow.sound()}\")      # Output: Cow makes sound: Moo\n",
        "print(f\"Sheep makes sound: {sheep.sound()}\")  # Output: Sheep makes sound: Baa\n"
      ],
      "metadata": {
        "id": "p12H_wiiyEG6"
      },
      "execution_count": null,
      "outputs": []
    },
    {
      "cell_type": "code",
      "source": [
        "# 17. Create a class Book with attributes title, author, and year_published. Add a method get_book_info() that returns a formatted string with the book's details.\n",
        "\n",
        "from abc import ABC, abstractmethod\n",
        "\n",
        "# Abstract class Animal\n",
        "class Animal(ABC):\n",
        "    @abstractmethod\n",
        "    def sound(self):\n",
        "        pass\n",
        "\n",
        "# Derived class Cow\n",
        "class Cow(Animal):\n",
        "    def sound(self):\n",
        "        return \"Moo\"\n",
        "\n",
        "# Derived class Sheep\n",
        "class Sheep(Animal):\n",
        "    def sound(self):\n",
        "        return \"Baa\"\n",
        "\n",
        "# Creating objects and calling sound() method\n",
        "cow = Cow()\n",
        "sheep = Sheep()\n",
        "\n",
        "print(f\"Cow makes sound: {cow.sound()}\")      # Output: Cow makes sound: Moo\n",
        "print(f\"Sheep makes sound: {sheep.sound()}\")  # Output: Sheep makes sound: Baa\n"
      ],
      "metadata": {
        "id": "CMX5Y6kXyU40"
      },
      "execution_count": null,
      "outputs": []
    },
    {
      "cell_type": "code",
      "source": [
        "# 18. Create a class House with attributes address and price. Create a derived class Mansion that adds an attribute number_of_rooms.\n",
        "\n",
        "class House:\n",
        "    def __init__(self, address, price):\n",
        "        self.address = address\n",
        "        self.price = price\n",
        "\n",
        "    def display_info(self):\n",
        "        print(f\"Address: {self.address}, Price: ₹{self.price}\")\n",
        "\n",
        "# Derived class Mansion\n",
        "class Mansion(House):\n",
        "    def __init__(self, address, price, number_of_rooms):\n",
        "        super().__init__(address, price)\n",
        "        self.number_of_rooms = number_of_rooms\n",
        "\n",
        "    def display_info(self):\n",
        "        super().display_info()\n",
        "        print(f\"Number of Rooms: {self.number_of_rooms}\")\n",
        "\n",
        "# Creating objects\n",
        "house = House(\"123 Maple St\", 5000000)\n",
        "mansion = Mansion(\"456 Oak Ave\", 20000000, 10)\n",
        "\n",
        "# Displaying information\n",
        "house.display_info()  # Output: Address: 123 Maple St, Price: ₹5000000\n",
        "mansion.display_info()  # Output: Address: 456 Oak Ave, Price: ₹20000000, Number of Rooms: 10\n"
      ],
      "metadata": {
        "id": "WtUf3wBAyyTm"
      },
      "execution_count": null,
      "outputs": []
    }
  ]
}